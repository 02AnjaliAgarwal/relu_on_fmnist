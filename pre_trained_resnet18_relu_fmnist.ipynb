{
  "nbformat": 4,
  "nbformat_minor": 0,
  "metadata": {
    "colab": {
      "provenance": [],
      "gpuType": "T4"
    },
    "kernelspec": {
      "name": "python3",
      "display_name": "Python 3"
    },
    "language_info": {
      "name": "python"
    },
    "accelerator": "GPU"
  },
  "cells": [
    {
      "cell_type": "code",
      "execution_count": 1,
      "metadata": {
        "id": "rPYetKwrGuUM",
        "colab": {
          "base_uri": "https://localhost:8080/"
        },
        "outputId": "59352d69-ef25-41d1-ba33-51bbcb380e06"
      },
      "outputs": [
        {
          "output_type": "stream",
          "name": "stdout",
          "text": [
            "Mounted at /content/drive\n"
          ]
        }
      ],
      "source": [
        "from tensorflow import keras\n",
        "from keras.layers import (\n",
        "    Input,\n",
        "    Add,\n",
        "    Dense,\n",
        "    Activation,\n",
        "    ZeroPadding2D,\n",
        "    BatchNormalization,\n",
        "    Flatten,\n",
        "    Conv2D,\n",
        "    AveragePooling2D,\n",
        "    MaxPooling2D,\n",
        ")\n",
        "from keras.models import Model\n",
        "import tensorflow as tf\n",
        "from tensorflow.python.keras import layers\n",
        "from sklearn.metrics import precision_recall_fscore_support\n",
        "import matplotlib.pyplot as plt\n",
        "import pickle\n",
        "import numpy as np\n",
        "import json\n",
        "from google.colab import drive\n",
        "drive.mount('/content/drive')"
      ]
    },
    {
      "cell_type": "code",
      "source": [
        "(X_train, y_train),(X_test, y_test) = keras.datasets.fashion_mnist.load_data()\n",
        "X_train = X_train / 255.0\n",
        "X_test = X_test / 255.0\n",
        "\n",
        "X_train = X_train.reshape(X_train.shape[0],28,28,1)\n",
        "X_test = X_test.reshape(X_test.shape[0],28,28,1)"
      ],
      "metadata": {
        "id": "a5B2MzYUX2Xc",
        "colab": {
          "base_uri": "https://localhost:8080/"
        },
        "outputId": "45a9c079-bbd6-48ba-a2a0-6a8d7341e54f"
      },
      "execution_count": 2,
      "outputs": [
        {
          "output_type": "stream",
          "name": "stdout",
          "text": [
            "Downloading data from https://storage.googleapis.com/tensorflow/tf-keras-datasets/train-labels-idx1-ubyte.gz\n",
            "29515/29515 [==============================] - 0s 1us/step\n",
            "Downloading data from https://storage.googleapis.com/tensorflow/tf-keras-datasets/train-images-idx3-ubyte.gz\n",
            "26421880/26421880 [==============================] - 2s 0us/step\n",
            "Downloading data from https://storage.googleapis.com/tensorflow/tf-keras-datasets/t10k-labels-idx1-ubyte.gz\n",
            "5148/5148 [==============================] - 0s 0us/step\n",
            "Downloading data from https://storage.googleapis.com/tensorflow/tf-keras-datasets/t10k-images-idx3-ubyte.gz\n",
            "4422102/4422102 [==============================] - 1s 0us/step\n"
          ]
        }
      ]
    },
    {
      "cell_type": "code",
      "source": [
        "class ResNet18:\n",
        "  def __init__(self, num_classes = 10, input_shape = (None, None, 3), **kwargs):\n",
        "    self.num_classes = num_classes\n",
        "    self.input_shape = input_shape\n",
        "\n",
        "  def identity_block18(self, x, filter):\n",
        "\n",
        "    x_skip = x\n",
        "\n",
        "    x = keras.layers.Conv2D(filter, (3,3), padding = 'same')(x)\n",
        "    x = keras.layers.BatchNormalization(axis=3)(x)\n",
        "    x = layers.Lambda(lambda x: tf.keras.activations.relu(x))(x)\n",
        "\n",
        "    x = keras.layers.Conv2D(filter, (3,3), padding = 'same')(x)\n",
        "    x = keras.layers.BatchNormalization(axis=3)(x)\n",
        "\n",
        "    x = keras.layers.Add()([x, x_skip])\n",
        "    x = layers.Lambda(lambda x: tf.keras.activations.relu(x))(x)\n",
        "    return x\n",
        "\n",
        "  def convolutional_block18(self, x, filter):\n",
        "\n",
        "    x_skip = x\n",
        "\n",
        "    x = keras.layers.Conv2D(filter, (3,3), padding = 'same', strides = (2,2))(x)\n",
        "    x = keras.layers.BatchNormalization(axis=3)(x)\n",
        "    x = layers.Lambda(lambda x: tf.keras.activations.relu(x))(x)\n",
        "\n",
        "    x = keras.layers.Conv2D(filter, (3,3), padding = 'same')(x)\n",
        "    x = keras.layers.BatchNormalization(axis=3)(x)\n",
        "\n",
        "    x_skip = keras.layers.Conv2D(filter, (1,1), strides = (2,2))(x_skip)\n",
        "\n",
        "    x = keras.layers.Add()([x, x_skip])\n",
        "    x = layers.Lambda(lambda x: tf.keras.activations.relu(x))(x)\n",
        "    return x\n",
        "\n",
        "  def build(self, **kwargs):\n",
        "\n",
        "    x_input = Input(self.input_shape)\n",
        "    x = ZeroPadding2D((3, 3))(x_input)\n",
        "\n",
        "\n",
        "    x = Conv2D(64, kernel_size=7, strides=2, padding='same')(x)\n",
        "    x = BatchNormalization()(x)\n",
        "    x = layers.Lambda(lambda x: tf.keras.activations.relu(x))(x)\n",
        "    x = keras.layers.MaxPool2D(pool_size=3, strides=2, padding='same')(x)\n",
        "\n",
        "\n",
        "    name = \"ResNet18\"\n",
        "    block_layers = [2, 2, 2, 2]\n",
        "    filter_size = 64\n",
        "\n",
        "\n",
        "    for i in range(4):\n",
        "        if i == 0:\n",
        "            for j in range(block_layers[i]):\n",
        "                x = self.identity_block18(x, filter_size)\n",
        "        else:\n",
        "            filter_size = filter_size*2\n",
        "            x = self.convolutional_block18(x, filter_size )\n",
        "            for j in range(block_layers[i] - 1):\n",
        "                x = self.identity_block18(x, filter_size)\n",
        "\n",
        "    x = AveragePooling2D((2,2), padding = 'same')(x)\n",
        "    x = Flatten()(x)\n",
        "    x = Dense(self.num_classes, activation = 'softmax')(x)\n",
        "    model = Model(inputs = x_input, outputs = x, name = name)\n",
        "\n",
        "    return model"
      ],
      "metadata": {
        "id": "uxSfTt-nV6Fe"
      },
      "execution_count": 3,
      "outputs": []
    },
    {
      "cell_type": "code",
      "source": [
        "rn = ResNet18(input_shape=(28, 28, 1))\n",
        "model = rn.build()\n",
        "model.summary()"
      ],
      "metadata": {
        "id": "qH4RnmUHX6Pc",
        "outputId": "f9bfe18f-c7da-4e98-b23a-184f90febfaf",
        "colab": {
          "base_uri": "https://localhost:8080/"
        }
      },
      "execution_count": 6,
      "outputs": [
        {
          "output_type": "stream",
          "name": "stdout",
          "text": [
            "Model: \"ResNet18\"\n",
            "__________________________________________________________________________________________________\n",
            " Layer (type)                Output Shape                 Param #   Connected to                  \n",
            "==================================================================================================\n",
            " input_2 (InputLayer)        [(None, 28, 28, 1)]          0         []                            \n",
            "                                                                                                  \n",
            " zero_padding2d_1 (ZeroPadd  (None, 34, 34, 1)            0         ['input_2[0][0]']             \n",
            " ing2D)                                                                                           \n",
            "                                                                                                  \n",
            " conv2d_20 (Conv2D)          (None, 17, 17, 64)           3200      ['zero_padding2d_1[0][0]']    \n",
            "                                                                                                  \n",
            " batch_normalization_17 (Ba  (None, 17, 17, 64)           256       ['conv2d_20[0][0]']           \n",
            " tchNormalization)                                                                                \n",
            "                                                                                                  \n",
            " tf.nn.relu_17 (TFOpLambda)  (None, 17, 17, 64)           0         ['batch_normalization_17[0][0]\n",
            "                                                                    ']                            \n",
            "                                                                                                  \n",
            " max_pooling2d_1 (MaxPoolin  (None, 9, 9, 64)             0         ['tf.nn.relu_17[0][0]']       \n",
            " g2D)                                                                                             \n",
            "                                                                                                  \n",
            " conv2d_21 (Conv2D)          (None, 9, 9, 64)             36928     ['max_pooling2d_1[0][0]']     \n",
            "                                                                                                  \n",
            " batch_normalization_18 (Ba  (None, 9, 9, 64)             256       ['conv2d_21[0][0]']           \n",
            " tchNormalization)                                                                                \n",
            "                                                                                                  \n",
            " tf.nn.relu_18 (TFOpLambda)  (None, 9, 9, 64)             0         ['batch_normalization_18[0][0]\n",
            "                                                                    ']                            \n",
            "                                                                                                  \n",
            " conv2d_22 (Conv2D)          (None, 9, 9, 64)             36928     ['tf.nn.relu_18[0][0]']       \n",
            "                                                                                                  \n",
            " batch_normalization_19 (Ba  (None, 9, 9, 64)             256       ['conv2d_22[0][0]']           \n",
            " tchNormalization)                                                                                \n",
            "                                                                                                  \n",
            " add_8 (Add)                 (None, 9, 9, 64)             0         ['batch_normalization_19[0][0]\n",
            "                                                                    ',                            \n",
            "                                                                     'max_pooling2d_1[0][0]']     \n",
            "                                                                                                  \n",
            " tf.nn.relu_19 (TFOpLambda)  (None, 9, 9, 64)             0         ['add_8[0][0]']               \n",
            "                                                                                                  \n",
            " conv2d_23 (Conv2D)          (None, 9, 9, 64)             36928     ['tf.nn.relu_19[0][0]']       \n",
            "                                                                                                  \n",
            " batch_normalization_20 (Ba  (None, 9, 9, 64)             256       ['conv2d_23[0][0]']           \n",
            " tchNormalization)                                                                                \n",
            "                                                                                                  \n",
            " tf.nn.relu_20 (TFOpLambda)  (None, 9, 9, 64)             0         ['batch_normalization_20[0][0]\n",
            "                                                                    ']                            \n",
            "                                                                                                  \n",
            " conv2d_24 (Conv2D)          (None, 9, 9, 64)             36928     ['tf.nn.relu_20[0][0]']       \n",
            "                                                                                                  \n",
            " batch_normalization_21 (Ba  (None, 9, 9, 64)             256       ['conv2d_24[0][0]']           \n",
            " tchNormalization)                                                                                \n",
            "                                                                                                  \n",
            " add_9 (Add)                 (None, 9, 9, 64)             0         ['batch_normalization_21[0][0]\n",
            "                                                                    ',                            \n",
            "                                                                     'tf.nn.relu_19[0][0]']       \n",
            "                                                                                                  \n",
            " tf.nn.relu_21 (TFOpLambda)  (None, 9, 9, 64)             0         ['add_9[0][0]']               \n",
            "                                                                                                  \n",
            " conv2d_25 (Conv2D)          (None, 5, 5, 128)            73856     ['tf.nn.relu_21[0][0]']       \n",
            "                                                                                                  \n",
            " batch_normalization_22 (Ba  (None, 5, 5, 128)            512       ['conv2d_25[0][0]']           \n",
            " tchNormalization)                                                                                \n",
            "                                                                                                  \n",
            " tf.nn.relu_22 (TFOpLambda)  (None, 5, 5, 128)            0         ['batch_normalization_22[0][0]\n",
            "                                                                    ']                            \n",
            "                                                                                                  \n",
            " conv2d_26 (Conv2D)          (None, 5, 5, 128)            147584    ['tf.nn.relu_22[0][0]']       \n",
            "                                                                                                  \n",
            " batch_normalization_23 (Ba  (None, 5, 5, 128)            512       ['conv2d_26[0][0]']           \n",
            " tchNormalization)                                                                                \n",
            "                                                                                                  \n",
            " conv2d_27 (Conv2D)          (None, 5, 5, 128)            8320      ['tf.nn.relu_21[0][0]']       \n",
            "                                                                                                  \n",
            " add_10 (Add)                (None, 5, 5, 128)            0         ['batch_normalization_23[0][0]\n",
            "                                                                    ',                            \n",
            "                                                                     'conv2d_27[0][0]']           \n",
            "                                                                                                  \n",
            " tf.nn.relu_23 (TFOpLambda)  (None, 5, 5, 128)            0         ['add_10[0][0]']              \n",
            "                                                                                                  \n",
            " conv2d_28 (Conv2D)          (None, 5, 5, 128)            147584    ['tf.nn.relu_23[0][0]']       \n",
            "                                                                                                  \n",
            " batch_normalization_24 (Ba  (None, 5, 5, 128)            512       ['conv2d_28[0][0]']           \n",
            " tchNormalization)                                                                                \n",
            "                                                                                                  \n",
            " tf.nn.relu_24 (TFOpLambda)  (None, 5, 5, 128)            0         ['batch_normalization_24[0][0]\n",
            "                                                                    ']                            \n",
            "                                                                                                  \n",
            " conv2d_29 (Conv2D)          (None, 5, 5, 128)            147584    ['tf.nn.relu_24[0][0]']       \n",
            "                                                                                                  \n",
            " batch_normalization_25 (Ba  (None, 5, 5, 128)            512       ['conv2d_29[0][0]']           \n",
            " tchNormalization)                                                                                \n",
            "                                                                                                  \n",
            " add_11 (Add)                (None, 5, 5, 128)            0         ['batch_normalization_25[0][0]\n",
            "                                                                    ',                            \n",
            "                                                                     'tf.nn.relu_23[0][0]']       \n",
            "                                                                                                  \n",
            " tf.nn.relu_25 (TFOpLambda)  (None, 5, 5, 128)            0         ['add_11[0][0]']              \n",
            "                                                                                                  \n",
            " conv2d_30 (Conv2D)          (None, 3, 3, 256)            295168    ['tf.nn.relu_25[0][0]']       \n",
            "                                                                                                  \n",
            " batch_normalization_26 (Ba  (None, 3, 3, 256)            1024      ['conv2d_30[0][0]']           \n",
            " tchNormalization)                                                                                \n",
            "                                                                                                  \n",
            " tf.nn.relu_26 (TFOpLambda)  (None, 3, 3, 256)            0         ['batch_normalization_26[0][0]\n",
            "                                                                    ']                            \n",
            "                                                                                                  \n",
            " conv2d_31 (Conv2D)          (None, 3, 3, 256)            590080    ['tf.nn.relu_26[0][0]']       \n",
            "                                                                                                  \n",
            " batch_normalization_27 (Ba  (None, 3, 3, 256)            1024      ['conv2d_31[0][0]']           \n",
            " tchNormalization)                                                                                \n",
            "                                                                                                  \n",
            " conv2d_32 (Conv2D)          (None, 3, 3, 256)            33024     ['tf.nn.relu_25[0][0]']       \n",
            "                                                                                                  \n",
            " add_12 (Add)                (None, 3, 3, 256)            0         ['batch_normalization_27[0][0]\n",
            "                                                                    ',                            \n",
            "                                                                     'conv2d_32[0][0]']           \n",
            "                                                                                                  \n",
            " tf.nn.relu_27 (TFOpLambda)  (None, 3, 3, 256)            0         ['add_12[0][0]']              \n",
            "                                                                                                  \n",
            " conv2d_33 (Conv2D)          (None, 3, 3, 256)            590080    ['tf.nn.relu_27[0][0]']       \n",
            "                                                                                                  \n",
            " batch_normalization_28 (Ba  (None, 3, 3, 256)            1024      ['conv2d_33[0][0]']           \n",
            " tchNormalization)                                                                                \n",
            "                                                                                                  \n",
            " tf.nn.relu_28 (TFOpLambda)  (None, 3, 3, 256)            0         ['batch_normalization_28[0][0]\n",
            "                                                                    ']                            \n",
            "                                                                                                  \n",
            " conv2d_34 (Conv2D)          (None, 3, 3, 256)            590080    ['tf.nn.relu_28[0][0]']       \n",
            "                                                                                                  \n",
            " batch_normalization_29 (Ba  (None, 3, 3, 256)            1024      ['conv2d_34[0][0]']           \n",
            " tchNormalization)                                                                                \n",
            "                                                                                                  \n",
            " add_13 (Add)                (None, 3, 3, 256)            0         ['batch_normalization_29[0][0]\n",
            "                                                                    ',                            \n",
            "                                                                     'tf.nn.relu_27[0][0]']       \n",
            "                                                                                                  \n",
            " tf.nn.relu_29 (TFOpLambda)  (None, 3, 3, 256)            0         ['add_13[0][0]']              \n",
            "                                                                                                  \n",
            " conv2d_35 (Conv2D)          (None, 2, 2, 512)            1180160   ['tf.nn.relu_29[0][0]']       \n",
            "                                                                                                  \n",
            " batch_normalization_30 (Ba  (None, 2, 2, 512)            2048      ['conv2d_35[0][0]']           \n",
            " tchNormalization)                                                                                \n",
            "                                                                                                  \n",
            " tf.nn.relu_30 (TFOpLambda)  (None, 2, 2, 512)            0         ['batch_normalization_30[0][0]\n",
            "                                                                    ']                            \n",
            "                                                                                                  \n",
            " conv2d_36 (Conv2D)          (None, 2, 2, 512)            2359808   ['tf.nn.relu_30[0][0]']       \n",
            "                                                                                                  \n",
            " batch_normalization_31 (Ba  (None, 2, 2, 512)            2048      ['conv2d_36[0][0]']           \n",
            " tchNormalization)                                                                                \n",
            "                                                                                                  \n",
            " conv2d_37 (Conv2D)          (None, 2, 2, 512)            131584    ['tf.nn.relu_29[0][0]']       \n",
            "                                                                                                  \n",
            " add_14 (Add)                (None, 2, 2, 512)            0         ['batch_normalization_31[0][0]\n",
            "                                                                    ',                            \n",
            "                                                                     'conv2d_37[0][0]']           \n",
            "                                                                                                  \n",
            " tf.nn.relu_31 (TFOpLambda)  (None, 2, 2, 512)            0         ['add_14[0][0]']              \n",
            "                                                                                                  \n",
            " conv2d_38 (Conv2D)          (None, 2, 2, 512)            2359808   ['tf.nn.relu_31[0][0]']       \n",
            "                                                                                                  \n",
            " batch_normalization_32 (Ba  (None, 2, 2, 512)            2048      ['conv2d_38[0][0]']           \n",
            " tchNormalization)                                                                                \n",
            "                                                                                                  \n",
            " tf.nn.relu_32 (TFOpLambda)  (None, 2, 2, 512)            0         ['batch_normalization_32[0][0]\n",
            "                                                                    ']                            \n",
            "                                                                                                  \n",
            " conv2d_39 (Conv2D)          (None, 2, 2, 512)            2359808   ['tf.nn.relu_32[0][0]']       \n",
            "                                                                                                  \n",
            " batch_normalization_33 (Ba  (None, 2, 2, 512)            2048      ['conv2d_39[0][0]']           \n",
            " tchNormalization)                                                                                \n",
            "                                                                                                  \n",
            " add_15 (Add)                (None, 2, 2, 512)            0         ['batch_normalization_33[0][0]\n",
            "                                                                    ',                            \n",
            "                                                                     'tf.nn.relu_31[0][0]']       \n",
            "                                                                                                  \n",
            " tf.nn.relu_33 (TFOpLambda)  (None, 2, 2, 512)            0         ['add_15[0][0]']              \n",
            "                                                                                                  \n",
            " average_pooling2d_1 (Avera  (None, 1, 1, 512)            0         ['tf.nn.relu_33[0][0]']       \n",
            " gePooling2D)                                                                                     \n",
            "                                                                                                  \n",
            " flatten_1 (Flatten)         (None, 512)                  0         ['average_pooling2d_1[0][0]'] \n",
            "                                                                                                  \n",
            " dense_1 (Dense)             (None, 10)                   5130      ['flatten_1[0][0]']           \n",
            "                                                                                                  \n",
            "==================================================================================================\n",
            "Total params: 11186186 (42.67 MB)\n",
            "Trainable params: 11178378 (42.64 MB)\n",
            "Non-trainable params: 7808 (30.50 KB)\n",
            "__________________________________________________________________________________________________\n"
          ]
        }
      ]
    },
    {
      "cell_type": "code",
      "source": [
        "model.compile(\n",
        "    optimizer=\"Adam\",\n",
        "\n",
        "    loss=\"sparse_categorical_crossentropy\",\n",
        "\n",
        "    metrics=[\"sparse_categorical_accuracy\"],\n",
        ")\n",
        "\n",
        "learning = model.fit(\n",
        "    X_train, y_train, validation_data=(X_test, y_test), epochs=30, verbose=1\n",
        ")\n"
      ],
      "metadata": {
        "id": "7ExKZIO_YP9p",
        "outputId": "b4df467e-56d3-49b7-9f71-0037b9978c75",
        "colab": {
          "base_uri": "https://localhost:8080/"
        }
      },
      "execution_count": 7,
      "outputs": [
        {
          "output_type": "stream",
          "name": "stdout",
          "text": [
            "Epoch 1/30\n",
            "1875/1875 [==============================] - 59s 23ms/step - loss: 0.4365 - sparse_categorical_accuracy: 0.8414 - val_loss: 0.3753 - val_sparse_categorical_accuracy: 0.8493\n",
            "Epoch 2/30\n",
            "1875/1875 [==============================] - 42s 22ms/step - loss: 0.3005 - sparse_categorical_accuracy: 0.8906 - val_loss: 0.3042 - val_sparse_categorical_accuracy: 0.8880\n",
            "Epoch 3/30\n",
            "1875/1875 [==============================] - 42s 23ms/step - loss: 0.2625 - sparse_categorical_accuracy: 0.9043 - val_loss: 0.2623 - val_sparse_categorical_accuracy: 0.9053\n",
            "Epoch 4/30\n",
            "1875/1875 [==============================] - 41s 22ms/step - loss: 0.2433 - sparse_categorical_accuracy: 0.9112 - val_loss: 0.3160 - val_sparse_categorical_accuracy: 0.8811\n",
            "Epoch 5/30\n",
            "1875/1875 [==============================] - 42s 23ms/step - loss: 0.2137 - sparse_categorical_accuracy: 0.9204 - val_loss: 0.2922 - val_sparse_categorical_accuracy: 0.8936\n",
            "Epoch 6/30\n",
            "1875/1875 [==============================] - 41s 22ms/step - loss: 0.1956 - sparse_categorical_accuracy: 0.9265 - val_loss: 0.2628 - val_sparse_categorical_accuracy: 0.9004\n",
            "Epoch 7/30\n",
            "1875/1875 [==============================] - 45s 24ms/step - loss: 0.1751 - sparse_categorical_accuracy: 0.9345 - val_loss: 0.2596 - val_sparse_categorical_accuracy: 0.9090\n",
            "Epoch 8/30\n",
            "1875/1875 [==============================] - 42s 22ms/step - loss: 0.1634 - sparse_categorical_accuracy: 0.9388 - val_loss: 0.2361 - val_sparse_categorical_accuracy: 0.9181\n",
            "Epoch 9/30\n",
            "1875/1875 [==============================] - 42s 22ms/step - loss: 0.1391 - sparse_categorical_accuracy: 0.9474 - val_loss: 0.2501 - val_sparse_categorical_accuracy: 0.9127\n",
            "Epoch 10/30\n",
            "1875/1875 [==============================] - 41s 22ms/step - loss: 0.1253 - sparse_categorical_accuracy: 0.9526 - val_loss: 0.2593 - val_sparse_categorical_accuracy: 0.9137\n",
            "Epoch 11/30\n",
            "1875/1875 [==============================] - 41s 22ms/step - loss: 0.1124 - sparse_categorical_accuracy: 0.9578 - val_loss: 0.2502 - val_sparse_categorical_accuracy: 0.9214\n",
            "Epoch 12/30\n",
            "1875/1875 [==============================] - 41s 22ms/step - loss: 0.0968 - sparse_categorical_accuracy: 0.9633 - val_loss: 0.2642 - val_sparse_categorical_accuracy: 0.9168\n",
            "Epoch 13/30\n",
            "1875/1875 [==============================] - 42s 22ms/step - loss: 0.0872 - sparse_categorical_accuracy: 0.9664 - val_loss: 0.3346 - val_sparse_categorical_accuracy: 0.9067\n",
            "Epoch 14/30\n",
            "1875/1875 [==============================] - 41s 22ms/step - loss: 0.0756 - sparse_categorical_accuracy: 0.9714 - val_loss: 0.3243 - val_sparse_categorical_accuracy: 0.9174\n",
            "Epoch 15/30\n",
            "1875/1875 [==============================] - 42s 22ms/step - loss: 0.0679 - sparse_categorical_accuracy: 0.9739 - val_loss: 0.3713 - val_sparse_categorical_accuracy: 0.9147\n",
            "Epoch 16/30\n",
            "1875/1875 [==============================] - 42s 23ms/step - loss: 0.0622 - sparse_categorical_accuracy: 0.9762 - val_loss: 0.3468 - val_sparse_categorical_accuracy: 0.9185\n",
            "Epoch 17/30\n",
            "1875/1875 [==============================] - 42s 22ms/step - loss: 0.0563 - sparse_categorical_accuracy: 0.9793 - val_loss: 0.3328 - val_sparse_categorical_accuracy: 0.9150\n",
            "Epoch 18/30\n",
            "1875/1875 [==============================] - 42s 23ms/step - loss: 0.0507 - sparse_categorical_accuracy: 0.9807 - val_loss: 0.3931 - val_sparse_categorical_accuracy: 0.9141\n",
            "Epoch 19/30\n",
            "1875/1875 [==============================] - 42s 23ms/step - loss: 0.0465 - sparse_categorical_accuracy: 0.9831 - val_loss: 0.3755 - val_sparse_categorical_accuracy: 0.9166\n",
            "Epoch 20/30\n",
            "1875/1875 [==============================] - 43s 23ms/step - loss: 0.0565 - sparse_categorical_accuracy: 0.9815 - val_loss: 0.3875 - val_sparse_categorical_accuracy: 0.9206\n",
            "Epoch 21/30\n",
            "1875/1875 [==============================] - 42s 23ms/step - loss: 0.0358 - sparse_categorical_accuracy: 0.9870 - val_loss: 0.4575 - val_sparse_categorical_accuracy: 0.9137\n",
            "Epoch 22/30\n",
            "1875/1875 [==============================] - 43s 23ms/step - loss: 0.0382 - sparse_categorical_accuracy: 0.9860 - val_loss: 0.4496 - val_sparse_categorical_accuracy: 0.9150\n",
            "Epoch 23/30\n",
            "1875/1875 [==============================] - 43s 23ms/step - loss: 0.0355 - sparse_categorical_accuracy: 0.9870 - val_loss: 0.4625 - val_sparse_categorical_accuracy: 0.9109\n",
            "Epoch 24/30\n",
            "1875/1875 [==============================] - 43s 23ms/step - loss: 0.0345 - sparse_categorical_accuracy: 0.9874 - val_loss: 0.4201 - val_sparse_categorical_accuracy: 0.9183\n",
            "Epoch 25/30\n",
            "1875/1875 [==============================] - 42s 23ms/step - loss: 0.0314 - sparse_categorical_accuracy: 0.9890 - val_loss: 0.5023 - val_sparse_categorical_accuracy: 0.9032\n",
            "Epoch 26/30\n",
            "1875/1875 [==============================] - 42s 22ms/step - loss: 0.0309 - sparse_categorical_accuracy: 0.9893 - val_loss: 0.4324 - val_sparse_categorical_accuracy: 0.9173\n",
            "Epoch 27/30\n",
            "1875/1875 [==============================] - 42s 23ms/step - loss: 0.0268 - sparse_categorical_accuracy: 0.9902 - val_loss: 0.5048 - val_sparse_categorical_accuracy: 0.9173\n",
            "Epoch 28/30\n",
            "1875/1875 [==============================] - 41s 22ms/step - loss: 0.0277 - sparse_categorical_accuracy: 0.9906 - val_loss: 0.4782 - val_sparse_categorical_accuracy: 0.9121\n",
            "Epoch 29/30\n",
            "1875/1875 [==============================] - 42s 23ms/step - loss: 0.0256 - sparse_categorical_accuracy: 0.9909 - val_loss: 0.4298 - val_sparse_categorical_accuracy: 0.9194\n",
            "Epoch 30/30\n",
            "1875/1875 [==============================] - 42s 22ms/step - loss: 0.0237 - sparse_categorical_accuracy: 0.9919 - val_loss: 0.4889 - val_sparse_categorical_accuracy: 0.9133\n"
          ]
        }
      ]
    },
    {
      "cell_type": "code",
      "source": [
        "loss_train = learning.history[\"loss\"]\n",
        "\n",
        "loss_val = learning.history[\"val_loss\"]\n",
        "\n",
        "acc_train = learning.history[\"sparse_categorical_accuracy\"]\n",
        "\n",
        "acc_val = learning.history[\"val_sparse_categorical_accuracy\"]\n",
        "\n",
        "y_pred = [np.argmax(arr) for arr in model.predict(X_test)]\n",
        "\n",
        "prf_score = precision_recall_fscore_support(y_test, y_pred, average=\"weighted\")\n",
        "\n",
        "score = model.evaluate(X_test, y_test)"
      ],
      "metadata": {
        "id": "MpZ9yNPnslLE",
        "outputId": "0f6f4add-c02c-4158-cc97-1da6afbe15cc",
        "colab": {
          "base_uri": "https://localhost:8080/"
        }
      },
      "execution_count": 8,
      "outputs": [
        {
          "output_type": "stream",
          "name": "stdout",
          "text": [
            "313/313 [==============================] - 2s 6ms/step\n",
            "313/313 [==============================] - 3s 10ms/step - loss: 0.4889 - sparse_categorical_accuracy: 0.9133\n"
          ]
        }
      ]
    },
    {
      "cell_type": "code",
      "source": [
        "with open(\"/content/drive/My Drive/Colab Notebooks/trained_model/resnet18_relu_fmnist\", 'wb') as f:\n",
        "  pickle.dump(model, f)"
      ],
      "metadata": {
        "id": "frHxOothGkx7"
      },
      "execution_count": 20,
      "outputs": []
    },
    {
      "cell_type": "code",
      "source": [
        "with open(\"/content/drive/My Drive/Colab Notebooks/trained_model/resnet18_relu_fmnist\", 'rb') as f:\n",
        "  model = pickle.load(f)"
      ],
      "metadata": {
        "id": "XFUOnA3LWzbj"
      },
      "execution_count": 21,
      "outputs": []
    },
    {
      "cell_type": "code",
      "source": [
        "plt.figure(figsize=(10, 10))\n",
        "for i in range(20):\n",
        "    plt.subplot(1, 20, i+1)\n",
        "    plt.imshow(X_test[i])\n",
        "    plt.title({y_test[i]})\n",
        "    plt.axis('off')\n",
        "plt.show()"
      ],
      "metadata": {
        "colab": {
          "base_uri": "https://localhost:8080/",
          "height": 91
        },
        "id": "VHYxeQ79WTJw",
        "outputId": "5bb3152e-d74c-4c34-bd33-2ed9912505eb"
      },
      "execution_count": 29,
      "outputs": [
        {
          "output_type": "display_data",
          "data": {
            "text/plain": [
              "<Figure size 1000x1000 with 20 Axes>"
            ],
            "image/png": "[encoded data removed]"
          },
          "metadata": {}
        }
      ]
    },
    {
      "cell_type": "code",
      "source": [
        "print([np.argmax(arr) for arr in model.predict(X_test[0:20])])\n"
      ],
      "metadata": {
        "colab": {
          "base_uri": "https://localhost:8080/"
        },
        "id": "EejhaphXWdVP",
        "outputId": "aa65b4e0-0483-4c2f-e986-3f8ec547f187"
      },
      "execution_count": 30,
      "outputs": [
        {
          "output_type": "stream",
          "name": "stdout",
          "text": [
            "1/1 [==============================] - 1s 547ms/step\n",
            "[9, 2, 1, 1, 6, 1, 4, 6, 5, 7, 4, 5, 7, 3, 4, 1, 2, 6, 8, 0]\n"
          ]
        }
      ]
    }
  ]
}